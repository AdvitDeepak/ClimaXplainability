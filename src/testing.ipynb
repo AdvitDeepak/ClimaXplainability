{
 "cells": [
  {
   "cell_type": "code",
   "execution_count": 3,
   "metadata": {},
   "outputs": [],
   "source": [
    "import numpy as np\n",
    "import os"
   ]
  },
  {
   "cell_type": "markdown",
   "metadata": {},
   "source": [
    "```\n",
    "python /home/prateiksinha/ClimaX/src/climax/global_forecast/train.py \\\n",
    "    --config /home/prateiksinha/ClimaX/configs/global_forecast_climax.yaml \\\n",
    "    --trainer.strategy=ddp --trainer.devices=8 \\\n",
    "    --trainer.max_epochs=50 \\\n",
    "    --data.root_dir=/data0/datasets/weatherbench/data/weatherbench/era5/5.625deg_npz \\\n",
    "    --data.predict_range=72 --data.out_variables=['z_500','t_850','t2m'] \\\n",
    "    --data.batch_size=16 \\\n",
    "    --model.pretrained_path='https://huggingface.co/tungnd/climax/resolve/main/5.625deg.ckpt' \\\n",
    "    --model.lr=5e-7 --model.beta_1=\"0.9\" --model.beta_2=\"0.99\" \\\n",
    "    --model.weight_decay=1e-5\n",
    "\n",
    "\n",
    "python /home/prateiksinha/ClimaX/src/climax/global_forecast/test.py \\\n",
    "    --config /home/prateiksinha/ClimaX/configs/global_forecast_climax.yaml \\\n",
    "    --trainer.strategy=ddp \\\n",
    "    --trainer.devices=1 \\\n",
    "    --trainer.max_epochs=50 \\\n",
    "    --data.root_dir=/data0/datasets/weatherbench/data/weatherbench/era5/5.625deg_npz \\\n",
    "    --data.predict_range=72 \\\n",
    "    --data.out_variables=['2m_temperature'] \\\n",
    "    --data.batch_size=16 \\\n",
    "    --model.pretrained_path='https://huggingface.co/tungnd/climax/resolve/main/5.625deg.ckpt' \\\n",
    "    --model.lr=5e-7 \\\n",
    "    --model.beta_1=\"0.9\" \\\n",
    "    --model.beta_2=\"0.99\" \\\n",
    "    --model.weight_decay=1e-5\n",
    "\n",
    "python /home/prateiksinha/ClimaX/src/climax/global_forecast/test.py \\\n",
    "    --config /home/prateiksinha/ClimaX/configs/global_forecast_climax.yaml \\\n",
    "    --trainer.strategy=ddp \\\n",
    "    --trainer.devices=1 \\\n",
    "    --trainer.max_epochs=50 \\\n",
    "    --data.root_dir=/home/prateiksinha/test_new2 \\\n",
    "    --data.predict_range=0 \\\n",
    "    --data.out_variables=['2m_temperature'] \\\n",
    "    --data.batch_size=1 \\\n",
    "    --model.pretrained_path='https://huggingface.co/tungnd/climax/resolve/main/5.625deg.ckpt' \\\n",
    "    --model.lr=5e-7 \\\n",
    "    --model.beta_1=\"0.9\" \\\n",
    "    --model.beta_2=\"0.99\" \\\n",
    "    --model.weight_decay=1e-5\n",
    "```"
   ]
  },
  {
   "cell_type": "code",
   "execution_count": 4,
   "metadata": {},
   "outputs": [],
   "source": [
    "# dict(np.load(os.path.join(self.hparams.root_dir, \"normalize_mean.npz\")))\n",
    "x = dict(np.load(os.path.join(\"/data0/datasets/weatherbench/data/weatherbench/era5/5.625deg_npz\", \"normalize_mean.npz\")))"
   ]
  },
  {
   "cell_type": "code",
   "execution_count": 5,
   "metadata": {},
   "outputs": [
    {
     "data": {
      "text/plain": [
       "{'orography': array([379.49976], dtype=float32),\n",
       " 'land_sea_mask': array([0.33708093], dtype=float32),\n",
       " 'lattitude': array([0.]),\n",
       " '2m_temperature': array([278.46222], dtype=float32),\n",
       " '10m_u_component_of_wind': array([-0.08840254], dtype=float32),\n",
       " '10m_v_component_of_wind': array([0.22599988], dtype=float32),\n",
       " 'toa_incident_solar_radiation': array([1074176.6], dtype=float32),\n",
       " 'total_precipitation': array([9.9729536e-05], dtype=float32),\n",
       " 'total_cloud_cover': array([0.674098], dtype=float32),\n",
       " 'geopotential_50': array([199352.2], dtype=float32),\n",
       " 'geopotential_250': array([101209.74], dtype=float32),\n",
       " 'geopotential_500': array([54109.043], dtype=float32),\n",
       " 'geopotential_600': array([40643.516], dtype=float32),\n",
       " 'geopotential_700': array([28925.121], dtype=float32),\n",
       " 'geopotential_850': array([13747.773], dtype=float32),\n",
       " 'geopotential_925': array([7013.799], dtype=float32),\n",
       " 'u_component_of_wind_50': array([5.650311], dtype=float32),\n",
       " 'u_component_of_wind_250': array([13.352082], dtype=float32),\n",
       " 'u_component_of_wind_500': array([6.5570884], dtype=float32),\n",
       " 'u_component_of_wind_600': array([4.7992682], dtype=float32),\n",
       " 'u_component_of_wind_700': array([3.2995038], dtype=float32),\n",
       " 'u_component_of_wind_850': array([1.394303], dtype=float32),\n",
       " 'u_component_of_wind_925': array([0.5745611], dtype=float32),\n",
       " 'v_component_of_wind_50': array([0.00419582], dtype=float32),\n",
       " 'v_component_of_wind_250': array([-0.03071418], dtype=float32),\n",
       " 'v_component_of_wind_500': array([-0.02320715], dtype=float32),\n",
       " 'v_component_of_wind_600': array([-0.03056812], dtype=float32),\n",
       " 'v_component_of_wind_700': array([0.0412487], dtype=float32),\n",
       " 'v_component_of_wind_850': array([0.16889949], dtype=float32),\n",
       " 'v_component_of_wind_925': array([0.23765469], dtype=float32),\n",
       " 'temperature_50': array([212.4917], dtype=float32),\n",
       " 'temperature_250': array([222.73187], dtype=float32),\n",
       " 'temperature_500': array([252.9185], dtype=float32),\n",
       " 'temperature_600': array([261.10516], dtype=float32),\n",
       " 'temperature_700': array([267.3596], dtype=float32),\n",
       " 'temperature_850': array([274.52966], dtype=float32),\n",
       " 'temperature_925': array([277.3167], dtype=float32),\n",
       " 'relative_humidity_50': array([6.5137496], dtype=float32),\n",
       " 'relative_humidity_250': array([47.314617], dtype=float32),\n",
       " 'relative_humidity_500': array([50.391052], dtype=float32),\n",
       " 'relative_humidity_600': array([51.593452], dtype=float32),\n",
       " 'relative_humidity_700': array([54.970573], dtype=float32),\n",
       " 'relative_humidity_850': array([69.12854], dtype=float32),\n",
       " 'relative_humidity_925': array([79.088974], dtype=float32),\n",
       " 'specific_humidity_50': array([2.6631285e-06], dtype=float32),\n",
       " 'specific_humidity_250': array([5.7548034e-05], dtype=float32),\n",
       " 'specific_humidity_500': array([0.00085038], dtype=float32),\n",
       " 'specific_humidity_600': array([0.00153876], dtype=float32),\n",
       " 'specific_humidity_700': array([0.00242479], dtype=float32),\n",
       " 'specific_humidity_850': array([0.00456447], dtype=float32),\n",
       " 'specific_humidity_925': array([0.00602118], dtype=float32),\n",
       " 'vorticity_50': array([-1.0406488e-06], dtype=float32),\n",
       " 'vorticity_250': array([-2.5118527e-07], dtype=float32),\n",
       " 'vorticity_500': array([-5.43105e-08], dtype=float32),\n",
       " 'vorticity_600': array([-7.201282e-08], dtype=float32),\n",
       " 'vorticity_700': array([5.301741e-07], dtype=float32),\n",
       " 'vorticity_850': array([5.2809618e-08], dtype=float32),\n",
       " 'vorticity_925': array([3.5187415e-07], dtype=float32),\n",
       " 'potential_vorticity_50': array([-4.2942204e-07], dtype=float32),\n",
       " 'potential_vorticity_250': array([1.2936583e-07], dtype=float32),\n",
       " 'potential_vorticity_500': array([2.041326e-09], dtype=float32),\n",
       " 'potential_vorticity_600': array([-1.18028545e-07], dtype=float32),\n",
       " 'potential_vorticity_700': array([-4.1785495e-07], dtype=float32),\n",
       " 'potential_vorticity_850': array([-4.704387e-07], dtype=float32),\n",
       " 'potential_vorticity_925': array([-3.2777606e-07], dtype=float32)}"
      ]
     },
     "execution_count": 5,
     "metadata": {},
     "output_type": "execute_result"
    }
   ],
   "source": [
    "x"
   ]
  }
 ],
 "metadata": {
  "kernelspec": {
   "display_name": "climaX",
   "language": "python",
   "name": "python3"
  },
  "language_info": {
   "codemirror_mode": {
    "name": "ipython",
    "version": 3
   },
   "file_extension": ".py",
   "mimetype": "text/x-python",
   "name": "python",
   "nbconvert_exporter": "python",
   "pygments_lexer": "ipython3",
   "version": "3.8.16"
  },
  "orig_nbformat": 4
 },
 "nbformat": 4,
 "nbformat_minor": 2
}
