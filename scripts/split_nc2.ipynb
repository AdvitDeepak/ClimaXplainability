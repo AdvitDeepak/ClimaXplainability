{
 "cells": [
  {
   "cell_type": "code",
   "execution_count": null,
   "metadata": {},
   "outputs": [],
   "source": [
    "import netCDF4 as nc\n",
    "import os\n",
    "import datetime\n",
    "import numpy as np\n",
    "\n",
    "original_file_path = \"/home/prateiksinha/new_data/awi/2m_temperature/1990.nc\"\n",
    "original_dataset = nc.Dataset(original_file_path, \"r\")"
   ]
  }
 ],
 "metadata": {
  "language_info": {
   "name": "python"
  },
  "orig_nbformat": 4
 },
 "nbformat": 4,
 "nbformat_minor": 2
}
