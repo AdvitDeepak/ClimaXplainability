{
 "cells": [
  {
   "cell_type": "markdown",
   "metadata": {},
   "source": [
    "> This notebook is still a work-in-progress and has NOT been implemented yet!"
   ]
  },
  {
   "cell_type": "code",
   "execution_count": null,
   "metadata": {},
   "outputs": [],
   "source": [
    "import netCDF4 as nc\n",
    "import os\n",
    "import datetime"
   ]
  },
  {
   "cell_type": "code",
   "execution_count": 27,
   "metadata": {},
   "outputs": [],
   "source": [
    "original_file_path = \"/home/prateiksinha/new_data/mpi/tas/tas_6hrPlevPt_MPI-ESM1-2-HR_historical_r1i1p1f1_gn_199001010600-199501010000.nc\"\n",
    "original_dataset = nc.Dataset(original_file_path, \"r\")\n",
    "\n",
    "second_file_path = \"/home/prateiksinha/new_data/mpi/tas/tas_6hrPlevPt_MPI-ESM1-2-HR_historical_r1i1p1f1_gn_199501010600-200001010000.nc\"\n",
    "second_dataset = nc.Dataset(second_file_path, \"r\")"
   ]
  },
  {
   "cell_type": "code",
   "execution_count": null,
   "metadata": {},
   "outputs": [],
   "source": [
    "import os\n",
    "import netCDF4 as nc\n",
    "import numpy as np\n",
    "from datetime import datetime, timedelta\n",
    "\n",
    "\n",
    "# Path to your original .nc file\n",
    "input_nc_file = \"/home/prateiksinha/new_data/mpi/tas/tas_6hrPlevPt_MPI-ESM1-2-HR_historical_r1i1p1f1_gn_199501010600-200001010000.nc\"\n",
    "\n",
    "# Directory to store the individual yearly .nc files\n",
    "output_dir = \"/home/prateiksinha/new_data/processed/mpi\"\n",
    "\n",
    "# Open the original .nc file for reading\n",
    "with nc.Dataset(input_nc_file, \"r\") as ds:\n",
    "    # Assuming the time variable is named \"time\" and has units in days since a reference date\n",
    "    time_var = ds.variables[\"time\"]\n",
    "    \n",
    "    # Convert time units to days since the reference date\n",
    "    reference_date = datetime(1850, 1, 1, 0, 0, 0)\n",
    "    time_days = time_var[:]\n",
    "    \n",
    "    print(\"TIME_DAYS\", time_days)\n",
    "\n",
    "    time_years = np.array([(reference_date + timedelta(days=float(days))).year for days in time_days])\n",
    "    print(\"TIME_YEARS\", time_years)\n",
    "    \n",
    "    # Loop through each year\n",
    "    for year in range(int(time_years[0]), int(time_years[-1]) + 1):\n",
    "        print(\"GOT THE YEAR\", year)\n",
    "\n",
    "        # Create a new .nc file for the current year\n",
    "        output_nc_file = os.path.join(output_dir, f\"climate_data_{year}.nc\")\n",
    "        with nc.Dataset(output_nc_file, \"w\") as output_ds:\n",
    "            # Copy global attributes from the original file\n",
    "            for attr_name in ds.ncattrs():\n",
    "                setattr(output_ds, attr_name, getattr(ds, attr_name))\n",
    "            \n",
    "            # Create dimensions in the output file\n",
    "            output_ds.createDimension(\"time\", sum(year == time_years))  # Each year has one time step\n",
    "            output_ds.createDimension(\"lat\", len(ds.dimensions[\"lat\"]))\n",
    "            output_ds.createDimension(\"lon\", len(ds.dimensions[\"lon\"]))\n",
    "            \n",
    "            # Copy variables to the output file\n",
    "            for var_name in ds.variables:\n",
    "                if 'bnds' not in var_name:\n",
    "                    var = ds.variables[var_name]\n",
    "                    print(\"CURR VAR NAME\", var_name)\n",
    "                    print(\"ASSOCIATED VAR\", dir(var))\n",
    "                    output_var = output_ds.createVariable(var_name, var.dtype, var.dimensions)\n",
    "                    \n",
    "                    if \"bnds\" in var.dimensions:\n",
    "                        # Handle bounds dimensions, e.g., for time variable\n",
    "                        output_var[:] = var[:, year*2:year*2+2, :, :]\n",
    "                    elif var_name == \"time\":\n",
    "                        output_time_var = output_var\n",
    "                        output_time_var.units = time_var.units\n",
    "                        output_time_var.calendar = time_var.calendar\n",
    "                        output_time_var[:] = time_days[time_years == year]  \n",
    "                    elif var_name == 'tas':\n",
    "                        output_var[:] = var[time_years == year]\n",
    "                    else:\n",
    "                        output_var[:] = var[:]\n",
    "    \n",
    "        print(f\"Processed year {year}\")"
   ]
  }
 ],
 "metadata": {
  "kernelspec": {
   "display_name": "climaX",
   "language": "python",
   "name": "python3"
  },
  "language_info": {
   "codemirror_mode": {
    "name": "ipython",
    "version": 3
   },
   "file_extension": ".py",
   "mimetype": "text/x-python",
   "name": "python",
   "nbconvert_exporter": "python",
   "pygments_lexer": "ipython3",
   "version": "3.8.16"
  },
  "orig_nbformat": 4
 },
 "nbformat": 4,
 "nbformat_minor": 2
}
