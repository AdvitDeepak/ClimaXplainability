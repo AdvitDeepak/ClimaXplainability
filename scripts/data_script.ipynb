{
 "cells": [
  {
   "cell_type": "markdown",
   "metadata": {},
   "source": [
    "# Data Processing, Packaging Script\n",
    "\n",
    "Hello, hello! Here's everything you need in order to run this script: \n",
    "\n",
    "- Path to a folder with the following structure: \n",
    "  \n",
    "  ```\n",
    "  > download_raw \n",
    "    > AWI \n",
    "      > 2m_temperature\n",
    "      > 10m_u_component_of_wind \n",
    "    > MPI \n",
    "      > 2m_temperature\n",
    "      > 10m_u_component_of_wind \n",
    "  > processed_new \n",
    "    > AWI \n",
    "    > MPI \n",
    "  ```\n",
    "\n",
    "It should like the above, where within `download_raw`, you have folders representing each climate model (ex. `AWI`, `MPI`). Within each climate models' folder, you have folders representing each variable (ex. `2m_temperature`, `10m_u_component_of_wind`). These variable names can be found at [ClimateLearn's Constants](https://github.com/aditya-grover/climate-learn/blob/main/src/climate_learn/data/processing/era5_constants.py). Finally, within each variable's folder, you can have the downloaded `.nc` files, as long as the start year is in there, and comes before the end year. \n",
    "\n",
    "For example, this is what a valid `2m_temperature` folder may contain: \n",
    "\n",
    "```\n",
    "> 2m_temperature \n",
    "  > tas_6hrPlevPt_AWI-ESM-1-1-LR_historical_r1i1p1f1_gn_199001010600-199101010000.nc\n",
    "  > tas_6hrPlevPt_AWI-ESM-1-1-LR_historical_r1i1p1f1_gn_199101010600-199201010000.nc\n",
    "  > tas_6hrPlevPt_AWI-ESM-1-1-LR_historical_r1i1p1f1_gn_199201010600-199301010000.nc\n",
    "```\n",
    "\n",
    "> NOTE! This script requires that `.nc` files have been split into individual years. If this has not be done, please use the `split_nc.ipynb` script to do so beforehand. \n",
    "> `.nc` file splitting into individual years is a feature that will be added in eventually. \n",
    "\n",
    "Once this file structure has achieved, please update the following variables below before running the script: "
   ]
  },
  {
   "cell_type": "code",
   "execution_count": 1,
   "metadata": {},
   "outputs": [],
   "source": [
    "FILE_PATHS = {\n",
    "    'download_raw' : '/home/advit/ClimateData/download_raw', \n",
    "    'processed_new' : '/home/advit/ClimateData/processed_new',\n",
    "}\n",
    "\n",
    "CLIMATE_MODELS = ['AWI', 'MPI']\n",
    "YEAR_RANGE = (1990, 2000)\n",
    "VARIABLES = ['2m_temperature']\n",
    "DEGREE = 5.625"
   ]
  },
  {
   "cell_type": "code",
   "execution_count": null,
   "metadata": {},
   "outputs": [],
   "source": [
    "from data_utils import DataParser\n",
    "\n",
    "d = DataParser(FILE_PATHS, CLIMATE_MODELS, YEAR_RANGE, VARIABLES, DEGREE)\n",
    "d.execute() # Can toggle verbosity on/off (def: True)"
   ]
  },
  {
   "cell_type": "markdown",
   "metadata": {},
   "source": []
  }
 ],
 "metadata": {
  "kernelspec": {
   "display_name": "climaX",
   "language": "python",
   "name": "python3"
  },
  "language_info": {
   "codemirror_mode": {
    "name": "ipython",
    "version": 3
   },
   "file_extension": ".py",
   "mimetype": "text/x-python",
   "name": "python",
   "nbconvert_exporter": "python",
   "pygments_lexer": "ipython3",
   "version": "3.11.4"
  },
  "orig_nbformat": 4
 },
 "nbformat": 4,
 "nbformat_minor": 2
}
