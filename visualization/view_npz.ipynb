{
 "cells": [
  {
   "cell_type": "code",
   "execution_count": 3,
   "metadata": {},
   "outputs": [
    {
     "name": "stdout",
     "output_type": "stream",
     "text": [
      "orography\n",
      "land_sea_mask\n",
      "lattitude\n",
      "temperature_50\n",
      "temperature_250\n",
      "temperature_500\n",
      "temperature_600\n",
      "temperature_700\n",
      "temperature_850\n",
      "temperature_925\n",
      "geopotential_50\n",
      "geopotential_250\n",
      "geopotential_500\n",
      "geopotential_600\n",
      "geopotential_700\n",
      "geopotential_850\n",
      "geopotential_925\n",
      "u_component_of_wind_50\n",
      "u_component_of_wind_250\n",
      "u_component_of_wind_500\n",
      "u_component_of_wind_600\n",
      "u_component_of_wind_700\n",
      "u_component_of_wind_850\n",
      "u_component_of_wind_925\n",
      "v_component_of_wind_50\n",
      "v_component_of_wind_250\n",
      "v_component_of_wind_500\n",
      "v_component_of_wind_600\n",
      "v_component_of_wind_700\n",
      "v_component_of_wind_850\n",
      "v_component_of_wind_925\n",
      "specific_humidity_50\n",
      "specific_humidity_250\n",
      "specific_humidity_500\n",
      "specific_humidity_600\n",
      "specific_humidity_700\n",
      "specific_humidity_850\n",
      "specific_humidity_925\n",
      "relative_humidity_50\n",
      "relative_humidity_250\n",
      "relative_humidity_500\n",
      "relative_humidity_600\n",
      "relative_humidity_700\n",
      "relative_humidity_850\n",
      "relative_humidity_925\n",
      "2m_temperature\n",
      "10m_u_component_of_wind\n",
      "10m_v_component_of_wind\n",
      "toa_incident_solar_radiation\n",
      "49\n"
     ]
    }
   ],
   "source": [
    "import numpy as np\n",
    "\n",
    "PATH = '/localhome/data/datasets/climate/era5/1.40625_npz/test/2017_0.npz'\n",
    "\n",
    "x = np.load(PATH, mmap_mode='r')\n",
    "i = 0\n",
    "for k in x.files:\n",
    "    i += 1\n",
    "    print(k)\n",
    "print(i)"
   ]
  },
  {
   "cell_type": "code",
   "execution_count": 4,
   "metadata": {},
   "outputs": [
    {
     "data": {
      "text/plain": [
       "(273, 1, 128, 256)"
      ]
     },
     "execution_count": 4,
     "metadata": {},
     "output_type": "execute_result"
    }
   ],
   "source": [
    "x['2m_temperature'].shape"
   ]
  },
  {
   "cell_type": "code",
   "execution_count": null,
   "metadata": {},
   "outputs": [],
   "source": [
    "x['2m_te']"
   ]
  },
  {
   "cell_type": "code",
   "execution_count": null,
   "metadata": {},
   "outputs": [],
   "source": [
    "273 * 32 / 24 = 364"
   ]
  }
 ],
 "metadata": {
  "kernelspec": {
   "display_name": "climaX",
   "language": "python",
   "name": "python3"
  },
  "language_info": {
   "codemirror_mode": {
    "name": "ipython",
    "version": 3
   },
   "file_extension": ".py",
   "mimetype": "text/x-python",
   "name": "python",
   "nbconvert_exporter": "python",
   "pygments_lexer": "ipython3",
   "version": "3.8.16"
  },
  "orig_nbformat": 4
 },
 "nbformat": 4,
 "nbformat_minor": 2
}
