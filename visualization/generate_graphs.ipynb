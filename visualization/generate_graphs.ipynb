{
 "cells": [
  {
   "cell_type": "code",
   "execution_count": 3,
   "metadata": {},
   "outputs": [],
   "source": [
    "import pandas as pd\n",
    "import json"
   ]
  },
  {
   "cell_type": "code",
   "execution_count": 12,
   "metadata": {},
   "outputs": [
    {
     "name": "stdout",
     "output_type": "stream",
     "text": [
      "512  jsons done  \r"
     ]
    }
   ],
   "source": [
    "\n",
    "all_rows = []\n",
    "\n",
    "with open('/home/prateiksinha/ClimaX/output_jsons/final_json_0001.json', 'r') as f:\n",
    "    sample = json.load(f)[0]\n",
    "row = []\n",
    "for i in sample['metrics'].keys():\n",
    "    for j in sample['metrics'][i].keys():\n",
    "        row.append(j)\n",
    "all_rows.append(row)\n",
    "\n",
    "import os\n",
    "dir = '/home/prateiksinha/ClimaX/output_jsons'\n",
    "count = 0\n",
    "for file in os.listdir(dir):\n",
    "    with open(os.path.join(dir, file), 'r') as f:\n",
    "        data1 = json.load(f)\n",
    "    data = data1[0]\n",
    "    row = []\n",
    "    for i in data['metrics'].keys():\n",
    "        for j in data['metrics'][i].keys():\n",
    "            row.append(data['metrics'][i][j])\n",
    "    all_rows.append(row)\n",
    "    count += 1\n",
    "    print(str(count), ' jsons done  ', end='\\r')"
   ]
  },
  {
   "cell_type": "code",
   "execution_count": 25,
   "metadata": {},
   "outputs": [],
   "source": [
    "df = pd.DataFrame(all_rows[1:], columns=all_rows[0])\n",
    "df['hours'] = list(range(1,df.shape[0]+1))"
   ]
  },
  {
   "cell_type": "code",
   "execution_count": 30,
   "metadata": {},
   "outputs": [
    {
     "data": {
      "text/html": [
       "<div>\n",
       "<style scoped>\n",
       "    .dataframe tbody tr th:only-of-type {\n",
       "        vertical-align: middle;\n",
       "    }\n",
       "\n",
       "    .dataframe tbody tr th {\n",
       "        vertical-align: top;\n",
       "    }\n",
       "\n",
       "    .dataframe thead th {\n",
       "        text-align: right;\n",
       "    }\n",
       "</style>\n",
       "<table border=\"1\" class=\"dataframe\">\n",
       "  <thead>\n",
       "    <tr style=\"text-align: right;\">\n",
       "      <th></th>\n",
       "      <th>w_mse_2m_temperature_1_hours</th>\n",
       "      <th>w_mse</th>\n",
       "      <th>w_rmse_2m_temperature_1_hours</th>\n",
       "      <th>w_rmse</th>\n",
       "      <th>acc_2m_temperature_1_hours</th>\n",
       "      <th>acc</th>\n",
       "      <th>hours</th>\n",
       "    </tr>\n",
       "  </thead>\n",
       "  <tbody>\n",
       "    <tr>\n",
       "      <th>0</th>\n",
       "      <td>0.417767</td>\n",
       "      <td>0.417767</td>\n",
       "      <td>13.854271</td>\n",
       "      <td>13.854271</td>\n",
       "      <td>0.175798</td>\n",
       "      <td>0.175798</td>\n",
       "      <td>1</td>\n",
       "    </tr>\n",
       "    <tr>\n",
       "      <th>1</th>\n",
       "      <td>0.394524</td>\n",
       "      <td>0.394524</td>\n",
       "      <td>13.463360</td>\n",
       "      <td>13.463360</td>\n",
       "      <td>0.165493</td>\n",
       "      <td>0.165493</td>\n",
       "      <td>2</td>\n",
       "    </tr>\n",
       "    <tr>\n",
       "      <th>2</th>\n",
       "      <td>0.464470</td>\n",
       "      <td>0.464470</td>\n",
       "      <td>14.608165</td>\n",
       "      <td>14.608165</td>\n",
       "      <td>0.192041</td>\n",
       "      <td>0.192041</td>\n",
       "      <td>3</td>\n",
       "    </tr>\n",
       "    <tr>\n",
       "      <th>3</th>\n",
       "      <td>0.383149</td>\n",
       "      <td>0.383149</td>\n",
       "      <td>13.267861</td>\n",
       "      <td>13.267861</td>\n",
       "      <td>0.107002</td>\n",
       "      <td>0.107002</td>\n",
       "      <td>4</td>\n",
       "    </tr>\n",
       "    <tr>\n",
       "      <th>4</th>\n",
       "      <td>0.514764</td>\n",
       "      <td>0.514764</td>\n",
       "      <td>15.378742</td>\n",
       "      <td>15.378742</td>\n",
       "      <td>0.142398</td>\n",
       "      <td>0.142398</td>\n",
       "      <td>5</td>\n",
       "    </tr>\n",
       "  </tbody>\n",
       "</table>\n",
       "</div>"
      ],
      "text/plain": [
       "   w_mse_2m_temperature_1_hours     w_mse  w_rmse_2m_temperature_1_hours  \\\n",
       "0                      0.417767  0.417767                      13.854271   \n",
       "1                      0.394524  0.394524                      13.463360   \n",
       "2                      0.464470  0.464470                      14.608165   \n",
       "3                      0.383149  0.383149                      13.267861   \n",
       "4                      0.514764  0.514764                      15.378742   \n",
       "\n",
       "      w_rmse  acc_2m_temperature_1_hours       acc  hours  \n",
       "0  13.854271                    0.175798  0.175798      1  \n",
       "1  13.463360                    0.165493  0.165493      2  \n",
       "2  14.608165                    0.192041  0.192041      3  \n",
       "3  13.267861                    0.107002  0.107002      4  \n",
       "4  15.378742                    0.142398  0.142398      5  "
      ]
     },
     "execution_count": 30,
     "metadata": {},
     "output_type": "execute_result"
    }
   ],
   "source": [
    "df.head()"
   ]
  },
  {
   "cell_type": "code",
   "execution_count": 32,
   "metadata": {},
   "outputs": [],
   "source": [
    "df.to_csv('/home/prateiksinha/ClimaX/output_csv/1990_3weeks.csv', index=None)"
   ]
  }
 ],
 "metadata": {
  "kernelspec": {
   "display_name": "map",
   "language": "python",
   "name": "python3"
  },
  "language_info": {
   "codemirror_mode": {
    "name": "ipython",
    "version": 3
   },
   "file_extension": ".py",
   "mimetype": "text/x-python",
   "name": "python",
   "nbconvert_exporter": "python",
   "pygments_lexer": "ipython3",
   "version": "3.11.4"
  },
  "orig_nbformat": 4
 },
 "nbformat": 4,
 "nbformat_minor": 2
}
